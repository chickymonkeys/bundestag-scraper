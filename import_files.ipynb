{
 "metadata": {
  "language_info": {
   "codemirror_mode": {
    "name": "ipython",
    "version": 3
   },
   "file_extension": ".py",
   "mimetype": "text/x-python",
   "name": "python",
   "nbconvert_exporter": "python",
   "pygments_lexer": "ipython3",
   "version": "3.8.6-final"
  },
  "orig_nbformat": 2,
  "kernelspec": {
   "name": "python3",
   "display_name": "Python 3"
  }
 },
 "nbformat": 4,
 "nbformat_minor": 2,
 "cells": [
  {
   "cell_type": "code",
   "execution_count": 73,
   "metadata": {},
   "outputs": [],
   "source": [
    "import os, requests, urllib, zipfile\n",
    "\n",
    "from bs4 import BeautifulSoup as bs\n",
    "\n",
    "\n",
    "\n",
    "root = 'https://www.bundestag.de'\n",
    "asin = '/ajax/filterlist/de/services/opendata/488214-488214?limit=10&noFilterSet=true'\n",
    "page = requests.get(root + asin)\n"
   ]
  },
  {
   "cell_type": "code",
   "execution_count": 74,
   "metadata": {},
   "outputs": [],
   "source": [
    "\n",
    "\n",
    "soup = bs(page.content)\n",
    "\n",
    "for a in soup.find_all(attrs={'class':'bt-link-dokument'}):\n",
    "    # dload.save_unzip(root + a['href'], extract_path='./data/raw')\n",
    "    # print(root + a['href'])\n",
    "    zipcall, _ = urllib.request.urlretrieve(root + a['href'])\n",
    "    with zipfile.ZipFile(zipcall, \"r\") as f:\n",
    "        f.extractall('./data/raw')\n",
    "\n"
   ]
  },
  {
   "cell_type": "code",
   "execution_count": null,
   "metadata": {},
   "outputs": [],
   "source": []
  }
 ]
}