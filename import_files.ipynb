{
 "metadata": {
  "language_info": {
   "codemirror_mode": {
    "name": "ipython",
    "version": 3
   },
   "file_extension": ".py",
   "mimetype": "text/x-python",
   "name": "python",
   "nbconvert_exporter": "python",
   "pygments_lexer": "ipython3",
   "version": "3.8.6-final"
  },
  "orig_nbformat": 2,
  "kernelspec": {
   "name": "python3",
   "display_name": "Python 3"
  }
 },
 "nbformat": 4,
 "nbformat_minor": 2,
 "cells": [
  {
   "cell_type": "code",
   "execution_count": 11,
   "metadata": {},
   "outputs": [],
   "source": [
    "import os, requests, urllib, zipfile\n",
    "from bs4 import BeautifulSoup as bs\n",
    "import xml.etree.ElementTree as ET\n",
    "from datetime import datetime as date\n",
    "\n",
    "# root domain of German parliament website\n",
    "root = 'https://www.bundestag.de'\n",
    "# ajax request url\n",
    "asin = '/ajax/filterlist/de/services/opendata/488214-488214?limit=10&noFilterSet=true'\n",
    "\n",
    "# HTTP request\n",
    "page = requests.get(root + asin)\n"
   ]
  },
  {
   "cell_type": "code",
   "execution_count": 74,
   "metadata": {},
   "outputs": [],
   "source": [
    "\n",
    "# assign BeautifulSoup object on response content\n",
    "soup = bs(page.content)\n",
    "\n",
    "# TODO: clean the data folder first\n",
    "directory = os.fsencode('./data/xml/')\n",
    "\n",
    "# loop all anchor with this class\n",
    "for a in soup.find_all(attrs={'class':'bt-link-dokument'}):\n",
    "    # retrieve plenary zip file from hrefs\n",
    "    zipcall, _ = urllib.request.urlretrieve(root + a['href'])\n",
    "    # extract all xml files of this legislature into raw folder\n",
    "    with zipfile.ZipFile(zipcall, \"r\") as f:\n",
    "        f.extractall(directory)\n",
    "\n"
   ]
  },
  {
   "cell_type": "code",
   "execution_count": 42,
   "metadata": {},
   "outputs": [],
   "source": [
    "import xml.etree.ElementTree as ET\n",
    "from datetime import datetime as date\n",
    "\n",
    "directory = './data/xml/'\n",
    "\n",
    "for file in os.listdir(os.fsencode(directory)):\n",
    "    filename = os.fsdecode(file)\n",
    "    if filename.endswith('.xml'):\n",
    "        root = ET.parse(directory + filename).getroot()\n",
    "        for child in root.iter('DATUM'):\n",
    "            plenaryDate = date.strptime(child.text, '%d.%m.%Y').strftime('%Y-%m-%d')\n",
    "            os.rename(directory + filename,  directory + plenaryDate + '.xml')\n",
    "    else: \n",
    "        os.remove(directory + filename)\n",
    "\n",
    "\n"
   ]
  },
  {
   "cell_type": "code",
   "execution_count": null,
   "metadata": {},
   "outputs": [],
   "source": []
  }
 ]
}