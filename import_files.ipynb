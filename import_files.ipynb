{
 "metadata": {
  "language_info": {
   "codemirror_mode": {
    "name": "ipython",
    "version": 3
   },
   "file_extension": ".py",
   "mimetype": "text/x-python",
   "name": "python",
   "nbconvert_exporter": "python",
   "pygments_lexer": "ipython3",
   "version": "3.8.6-final"
  },
  "orig_nbformat": 2,
  "kernelspec": {
   "name": "python3",
   "display_name": "Python 3"
  }
 },
 "nbformat": 4,
 "nbformat_minor": 2,
 "cells": [
  {
   "cell_type": "code",
   "execution_count": 1,
   "metadata": {},
   "outputs": [],
   "source": [
    "import os, requests, urllib, zipfile\n",
    "from bs4 import BeautifulSoup as bs\n",
    "import xml.etree.ElementTree as ET\n",
    "from datetime import datetime as date\n",
    "\n",
    "# root domain of German parliament website\n",
    "root = 'https://www.bundestag.de'\n",
    "# ajax request url\n",
    "asin = '/ajax/filterlist/de/services/opendata/488214-488214?limit=10&noFilterSet=true'\n",
    "\n",
    "# HTTP request\n",
    "page = requests.get(root + asin)\n"
   ]
  },
  {
   "cell_type": "code",
   "execution_count": null,
   "metadata": {},
   "outputs": [],
   "source": [
    "\n",
    "# assign BeautifulSoup object on response content\n",
    "soup = bs(page.content)\n",
    "\n",
    "# TODO: clean the data folder first\n",
    "directory = os.fsencode('./data/xml/')\n",
    "\n",
    "\n",
    "# loop all anchor with this class\n",
    "for a in soup.find_all(attrs={'class':'bt-link-dokument'}):\n",
    "    # retrieve plenary zip file from hrefs\n",
    "    zipcall, _ = urllib.request.urlretrieve(root + a['href'])\n",
    "    # extract all xml files of this legislature into raw folder\n",
    "    with zipfile.ZipFile(zipcall, \"r\") as f:\n",
    "        f.extractall(xmldir)\n",
    "\n"
   ]
  },
  {
   "cell_type": "code",
   "execution_count": 22,
   "metadata": {},
   "outputs": [],
   "source": [
    "import xml.etree.ElementTree as ET\n",
    "from datetime import datetime as date\n",
    "\n",
    "# data paths (TODO: move back to top)\n",
    "data_root = './data/'\n",
    "xmldir = data_root + 'xml/'\n",
    "txtdir = data_root + 'txt/'\n",
    "\n",
    "# PDFs headers to be removed in some of the xml files\n",
    "headingLines = ['Deutscher Bundestag –', '(A)', '(B)']\n",
    "\n",
    "# iterate over all the .xml files in the folder\n",
    "for file in os.listdir(os.fsencode(xmldir)):\n",
    "    # decode the name of file\n",
    "    filename = os.fsdecode(file)\n",
    "    # work on just .xmls and remove everything else\n",
    "    if filename.endswith('.xml'):\n",
    "        # element tree XML parsing : get root\n",
    "        root = ET.parse(xmldir + filename).getroot()\n",
    "        # TEXT tag first to acquire the plenary body\n",
    "        for child in root.iter('TEXT'):\n",
    "            with open('./data/txt/temp.txt', 'w') as tempfile:\n",
    "                tempfile.write(child.text)\n",
    "        # DATUM as the date of the plenary for file renaming\n",
    "        for child in root.iter('DATUM'):\n",
    "            plenaryDate = date.strptime(child.text, '%d.%m.%Y').strftime('%Y-%m-%d')\n",
    "            with open(txtdir + 'temp.txt') as tempfile, open(txtdir + plenaryDate + '.txt', 'w') as textfile:\n",
    "                for line in tempfile:\n",
    "                    if not any(header in line for header in headingLines):\n",
    "                        textfile.write(line)\n",
    "    else: \n",
    "        os.remove(xmldir + filename)\n",
    "\n",
    "    os.remove(txtdir + 'temp.txt')\n"
   ]
  },
  {
   "cell_type": "code",
   "execution_count": 21,
   "metadata": {},
   "outputs": [],
   "source": [
    "\n",
    "# We can do it later when we work on the single lines\n",
    "\n",
    "import dehyphen\n",
    "\n",
    "scorer = dehyphen.FlairScorer(lang=\"de\")\n",
    "\n",
    "with open('./data/txt/temp.txt', 'r') as file:\n",
    "    special_format = dehyphen.text_to_format(file.read())\n",
    "    cleaned_text = scorer.dehyphen(special_format)"
   ]
  },
  {
   "cell_type": "code",
   "execution_count": null,
   "metadata": {},
   "outputs": [],
   "source": []
  }
 ]
}